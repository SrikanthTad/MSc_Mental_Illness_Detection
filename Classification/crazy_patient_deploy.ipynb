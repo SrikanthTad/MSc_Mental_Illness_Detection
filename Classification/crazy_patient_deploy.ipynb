{
  "nbformat": 4,
  "nbformat_minor": 0,
  "metadata": {
    "colab": {
      "name": "crazy_patient_deploy.ipynb",
      "version": "0.3.2",
      "views": {},
      "default_view": {},
      "provenance": []
    },
    "kernelspec": {
      "name": "python3",
      "display_name": "Python 3"
    }
  },
  "cells": [
    {
      "metadata": {
        "id": "hKq5uEOUhQCC",
        "colab_type": "text"
      },
      "cell_type": "markdown",
      "source": [
        "# Install necessary dependencies"
      ]
    },
    {
      "metadata": {
        "id": "KQi_YmZphRb-",
        "colab_type": "code",
        "colab": {
          "autoexec": {
            "startup": false,
            "wait_interval": 0
          }
        }
      },
      "cell_type": "code",
      "source": [
        "!pip install xlrd"
      ],
      "execution_count": 0,
      "outputs": []
    },
    {
      "metadata": {
        "id": "gZe_ZHPBejzw",
        "colab_type": "text"
      },
      "cell_type": "markdown",
      "source": [
        "# Read data"
      ]
    },
    {
      "metadata": {
        "id": "0QSAKxqVhA6g",
        "colab_type": "code",
        "colab": {
          "autoexec": {
            "startup": false,
            "wait_interval": 0
          }
        }
      },
      "cell_type": "code",
      "source": [
        "import pandas\n",
        "import copy\n",
        "import numpy as np"
      ],
      "execution_count": 0,
      "outputs": []
    },
    {
      "metadata": {
        "id": "nBj5XU28hIwW",
        "colab_type": "code",
        "colab": {
          "autoexec": {
            "startup": false,
            "wait_interval": 0
          }
        }
      },
      "cell_type": "code",
      "source": [
        "data_source = pandas.read_excel('data.xlsx')"
      ],
      "execution_count": 0,
      "outputs": []
    },
    {
      "metadata": {
        "id": "xBvlA2nnhjL9",
        "colab_type": "code",
        "colab": {
          "autoexec": {
            "startup": false,
            "wait_interval": 0
          }
        }
      },
      "cell_type": "code",
      "source": [
        "with open(\"bags_of_words.txt\",\"r\") as f:\n",
        "  keywords = f.readline()\n",
        "# Clean up the words\n",
        "keywords = keywords.replace(\"\\n\",\"\")\n",
        "keywords = keywords.replace(\"'\",\"\")\n",
        "keywords = keywords.split(\",\")\n",
        "keywords = [o.replace(\" \",\"\") for o in keywords]"
      ],
      "execution_count": 0,
      "outputs": []
    },
    {
      "metadata": {
        "id": "pTVnFQMmjxmv",
        "colab_type": "code",
        "colab": {
          "autoexec": {
            "startup": false,
            "wait_interval": 0
          }
        }
      },
      "cell_type": "code",
      "source": [
        "keywordsMap = {o:0 for o in keywords}"
      ],
      "execution_count": 0,
      "outputs": []
    },
    {
      "metadata": {
        "id": "Mi5_Fo2vh90P",
        "colab_type": "code",
        "colab": {
          "autoexec": {
            "startup": false,
            "wait_interval": 0
          }
        }
      },
      "cell_type": "code",
      "source": [
        "def convert_sentence_to_feature(sentence):\n",
        "  bag_of_words = copy.deepcopy(keywordsMap)\n",
        "  for word in sentence:\n",
        "    if word.lower() in bag_of_words:\n",
        "      initial_value = bag_of_words[word.lower()]\n",
        "      bag_of_words[word.lower()] =  initial_value + 1 \n",
        "  return list(bag_of_words.values())"
      ],
      "execution_count": 0,
      "outputs": []
    },
    {
      "metadata": {
        "id": "nScLKJX0ifm5",
        "colab_type": "code",
        "colab": {
          "autoexec": {
            "startup": false,
            "wait_interval": 0
          }
        }
      },
      "cell_type": "code",
      "source": [
        "all_comments = list(data_source['Comment'])"
      ],
      "execution_count": 0,
      "outputs": []
    },
    {
      "metadata": {
        "id": "TqH1AzJv352P",
        "colab_type": "code",
        "colab": {
          "autoexec": {
            "startup": false,
            "wait_interval": 0
          }
        }
      },
      "cell_type": "code",
      "source": [
        "all_comments = [o for o in all_comments]"
      ],
      "execution_count": 0,
      "outputs": []
    },
    {
      "metadata": {
        "id": "2Dcs1D6g4GzN",
        "colab_type": "code",
        "colab": {
          "autoexec": {
            "startup": false,
            "wait_interval": 0
          }
        }
      },
      "cell_type": "code",
      "source": [
        "all_comments = [o.split(\" \") for o in all_comments]"
      ],
      "execution_count": 0,
      "outputs": []
    },
    {
      "metadata": {
        "id": "d0X736GJ45Ep",
        "colab_type": "code",
        "colab": {
          "autoexec": {
            "startup": false,
            "wait_interval": 0
          }
        }
      },
      "cell_type": "code",
      "source": [
        "comment_features = [convert_sentence_to_feature(comment)for comment in all_comments]"
      ],
      "execution_count": 0,
      "outputs": []
    },
    {
      "metadata": {
        "id": "aqJwsPIjBe4D",
        "colab_type": "code",
        "colab": {
          "autoexec": {
            "startup": false,
            "wait_interval": 0
          }
        }
      },
      "cell_type": "code",
      "source": [
        "comment_labels = [1 if o > 2 else 0 for o in data_source[\"Ranking\"]]"
      ],
      "execution_count": 0,
      "outputs": []
    },
    {
      "metadata": {
        "id": "4q9RT-UFBAT0",
        "colab_type": "text"
      },
      "cell_type": "markdown",
      "source": [
        "# Algorithm "
      ]
    },
    {
      "metadata": {
        "id": "Ftx2VrM4_bmv",
        "colab_type": "text"
      },
      "cell_type": "markdown",
      "source": [
        "## Naive Bayes"
      ]
    },
    {
      "metadata": {
        "id": "mCmN77VHBEzH",
        "colab_type": "code",
        "colab": {
          "autoexec": {
            "startup": false,
            "wait_interval": 0
          }
        }
      },
      "cell_type": "code",
      "source": [
        "from sklearn.naive_bayes import MultinomialNB\n",
        "from sklearn.model_selection import train_test_split"
      ],
      "execution_count": 0,
      "outputs": []
    },
    {
      "metadata": {
        "id": "52Z-hrKyDeED",
        "colab_type": "code",
        "colab": {
          "autoexec": {
            "startup": false,
            "wait_interval": 0
          }
        }
      },
      "cell_type": "code",
      "source": [
        "X_train, X_test, y_train, y_test = train_test_split(comment_features,comment_labels,test_size = 0.2)"
      ],
      "execution_count": 0,
      "outputs": []
    },
    {
      "metadata": {
        "id": "T3NB6u9KBKBg",
        "colab_type": "code",
        "colab": {
          "autoexec": {
            "startup": false,
            "wait_interval": 0
          }
        }
      },
      "cell_type": "code",
      "source": [
        "mnb = MultinomialNB()"
      ],
      "execution_count": 0,
      "outputs": []
    },
    {
      "metadata": {
        "id": "-rKR1BnbBZVA",
        "colab_type": "code",
        "colab": {
          "autoexec": {
            "startup": false,
            "wait_interval": 0
          },
          "base_uri": "https://localhost:8080/",
          "height": 34
        },
        "outputId": "adf27a79-5c28-40c2-bc1a-f80dc13b5b6d",
        "executionInfo": {
          "status": "ok",
          "timestamp": 1530067480614,
          "user_tz": -480,
          "elapsed": 643,
          "user": {
            "displayName": "Sie Huai Gan",
            "photoUrl": "https://lh3.googleusercontent.com/a/default-user=s128",
            "userId": "104695445062122786782"
          }
        }
      },
      "cell_type": "code",
      "source": [
        "mnb.fit(X_train,y_train)"
      ],
      "execution_count": 0,
      "outputs": [
        {
          "output_type": "execute_result",
          "data": {
            "text/plain": [
              "MultinomialNB(alpha=1.0, class_prior=None, fit_prior=True)"
            ]
          },
          "metadata": {
            "tags": []
          },
          "execution_count": 15
        }
      ]
    },
    {
      "metadata": {
        "id": "1ylq3UqoBYLl",
        "colab_type": "code",
        "colab": {
          "autoexec": {
            "startup": false,
            "wait_interval": 0
          },
          "base_uri": "https://localhost:8080/",
          "height": 34
        },
        "outputId": "26ca68b1-9793-493e-95dd-2fbfc1b12e60",
        "executionInfo": {
          "status": "ok",
          "timestamp": 1530067481637,
          "user_tz": -480,
          "elapsed": 705,
          "user": {
            "displayName": "Sie Huai Gan",
            "photoUrl": "https://lh3.googleusercontent.com/a/default-user=s128",
            "userId": "104695445062122786782"
          }
        }
      },
      "cell_type": "code",
      "source": [
        "accuracy = mnb.score(X_test,y_test)"
      ],
      "execution_count": 0,
      "outputs": [
        {
          "output_type": "execute_result",
          "data": {
            "text/plain": [
              "1.0"
            ]
          },
          "metadata": {
            "tags": []
          },
          "execution_count": 16
        }
      ]
    },
    {
      "metadata": {
        "id": "1aKUtopMFacv",
        "colab_type": "text"
      },
      "cell_type": "markdown",
      "source": [
        "## KNN"
      ]
    },
    {
      "metadata": {
        "id": "2idalvw1FcOM",
        "colab_type": "code",
        "colab": {
          "autoexec": {
            "startup": false,
            "wait_interval": 0
          }
        }
      },
      "cell_type": "code",
      "source": [
        "from sklearn.neighbors import KNeighborsClassifier"
      ],
      "execution_count": 0,
      "outputs": []
    },
    {
      "metadata": {
        "id": "q225hrGEFpvO",
        "colab_type": "code",
        "colab": {
          "autoexec": {
            "startup": false,
            "wait_interval": 0
          }
        }
      },
      "cell_type": "code",
      "source": [
        "neighbour = KNeighborsClassifier(n_neighbors=3)"
      ],
      "execution_count": 0,
      "outputs": []
    },
    {
      "metadata": {
        "id": "tEPgA_dKFuVQ",
        "colab_type": "code",
        "colab": {
          "autoexec": {
            "startup": false,
            "wait_interval": 0
          },
          "base_uri": "https://localhost:8080/",
          "height": 69
        },
        "outputId": "3d093697-18c9-4817-b446-75caa5d26304",
        "executionInfo": {
          "status": "ok",
          "timestamp": 1530067484484,
          "user_tz": -480,
          "elapsed": 608,
          "user": {
            "displayName": "Sie Huai Gan",
            "photoUrl": "https://lh3.googleusercontent.com/a/default-user=s128",
            "userId": "104695445062122786782"
          }
        }
      },
      "cell_type": "code",
      "source": [
        "neighbour.fit(X_train,y_train)"
      ],
      "execution_count": 0,
      "outputs": [
        {
          "output_type": "execute_result",
          "data": {
            "text/plain": [
              "KNeighborsClassifier(algorithm='auto', leaf_size=30, metric='minkowski',\n",
              "           metric_params=None, n_jobs=1, n_neighbors=3, p=2,\n",
              "           weights='uniform')"
            ]
          },
          "metadata": {
            "tags": []
          },
          "execution_count": 19
        }
      ]
    },
    {
      "metadata": {
        "id": "HfGfir3yFx_B",
        "colab_type": "code",
        "colab": {
          "autoexec": {
            "startup": false,
            "wait_interval": 0
          },
          "base_uri": "https://localhost:8080/",
          "height": 34
        },
        "outputId": "9c43b18b-ad11-43b7-ab60-93a74b68e2f6",
        "executionInfo": {
          "status": "ok",
          "timestamp": 1530067485355,
          "user_tz": -480,
          "elapsed": 659,
          "user": {
            "displayName": "Sie Huai Gan",
            "photoUrl": "https://lh3.googleusercontent.com/a/default-user=s128",
            "userId": "104695445062122786782"
          }
        }
      },
      "cell_type": "code",
      "source": [
        "accuracy = neighbour.score(X_test,y_test)"
      ],
      "execution_count": 0,
      "outputs": [
        {
          "output_type": "execute_result",
          "data": {
            "text/plain": [
              "1.0"
            ]
          },
          "metadata": {
            "tags": []
          },
          "execution_count": 20
        }
      ]
    },
    {
      "metadata": {
        "id": "qL23pPzzF88U",
        "colab_type": "text"
      },
      "cell_type": "markdown",
      "source": [
        "# SVM"
      ]
    },
    {
      "metadata": {
        "id": "z12mahRvF_5Q",
        "colab_type": "code",
        "colab": {
          "autoexec": {
            "startup": false,
            "wait_interval": 0
          }
        }
      },
      "cell_type": "code",
      "source": [
        "from sklearn import svm"
      ],
      "execution_count": 0,
      "outputs": []
    },
    {
      "metadata": {
        "id": "t5XmSucfGoGQ",
        "colab_type": "code",
        "colab": {
          "autoexec": {
            "startup": false,
            "wait_interval": 0
          }
        }
      },
      "cell_type": "code",
      "source": [
        "clf = svm.SVC()"
      ],
      "execution_count": 0,
      "outputs": []
    },
    {
      "metadata": {
        "id": "1MU7sVDkGqI-",
        "colab_type": "code",
        "colab": {
          "autoexec": {
            "startup": false,
            "wait_interval": 0
          },
          "base_uri": "https://localhost:8080/",
          "height": 86
        },
        "outputId": "6e5efb3e-3996-4769-dee0-c038389a490a",
        "executionInfo": {
          "status": "ok",
          "timestamp": 1530067488139,
          "user_tz": -480,
          "elapsed": 656,
          "user": {
            "displayName": "Sie Huai Gan",
            "photoUrl": "https://lh3.googleusercontent.com/a/default-user=s128",
            "userId": "104695445062122786782"
          }
        }
      },
      "cell_type": "code",
      "source": [
        "clf.fit(X_train,y_train)"
      ],
      "execution_count": 0,
      "outputs": [
        {
          "output_type": "execute_result",
          "data": {
            "text/plain": [
              "SVC(C=1.0, cache_size=200, class_weight=None, coef0=0.0,\n",
              "  decision_function_shape='ovr', degree=3, gamma='auto', kernel='rbf',\n",
              "  max_iter=-1, probability=False, random_state=None, shrinking=True,\n",
              "  tol=0.001, verbose=False)"
            ]
          },
          "metadata": {
            "tags": []
          },
          "execution_count": 23
        }
      ]
    },
    {
      "metadata": {
        "id": "zhQqeTc4Gsip",
        "colab_type": "code",
        "colab": {
          "autoexec": {
            "startup": false,
            "wait_interval": 0
          },
          "base_uri": "https://localhost:8080/",
          "height": 34
        },
        "outputId": "12703046-0583-419d-d845-fc58e4a41e56",
        "executionInfo": {
          "status": "ok",
          "timestamp": 1530067489137,
          "user_tz": -480,
          "elapsed": 769,
          "user": {
            "displayName": "Sie Huai Gan",
            "photoUrl": "https://lh3.googleusercontent.com/a/default-user=s128",
            "userId": "104695445062122786782"
          }
        }
      },
      "cell_type": "code",
      "source": [
        "accuracy = clf.score(X_test,y_test)"
      ],
      "execution_count": 0,
      "outputs": [
        {
          "output_type": "execute_result",
          "data": {
            "text/plain": [
              "1.0"
            ]
          },
          "metadata": {
            "tags": []
          },
          "execution_count": 24
        }
      ]
    },
    {
      "metadata": {
        "id": "dfCln2k2GvZk",
        "colab_type": "text"
      },
      "cell_type": "markdown",
      "source": [
        "# Patient Classifier"
      ]
    },
    {
      "metadata": {
        "id": "uCH4bBQDHLjN",
        "colab_type": "code",
        "colab": {
          "autoexec": {
            "startup": false,
            "wait_interval": 0
          }
        }
      },
      "cell_type": "code",
      "source": [
        "userMap = dict()\n",
        "for user in data_source['User Id']:\n",
        "  userMap[user] = []"
      ],
      "execution_count": 0,
      "outputs": []
    },
    {
      "metadata": {
        "id": "V7aIxVLnIWpQ",
        "colab_type": "code",
        "colab": {
          "autoexec": {
            "startup": false,
            "wait_interval": 0
          }
        }
      },
      "cell_type": "code",
      "source": [
        "for user in userMap:\n",
        "  sentences = list(data_source.loc[data_source['User Id'] == user]['Comment'])\n",
        "  sentences = [o.split(\" \") for o in sentences]\n",
        "  sentences = [convert_sentence_to_feature(o) for o in sentences]\n",
        "  userMap[user] = sentences"
      ],
      "execution_count": 0,
      "outputs": []
    },
    {
      "metadata": {
        "id": "R2QUwmuENB3-",
        "colab_type": "code",
        "colab": {
          "autoexec": {
            "startup": false,
            "wait_interval": 0
          }
        }
      },
      "cell_type": "code",
      "source": [
        "user_labels = []\n",
        "for user in userMap:\n",
        "  overall_opinion = list(data_source.loc[data_source['User Id'] == user]['Overall Ranking Opinon'])[0]\n",
        "  user_labels.append(overall_opinion)"
      ],
      "execution_count": 0,
      "outputs": []
    },
    {
      "metadata": {
        "id": "7mmXOjqhLiYQ",
        "colab_type": "code",
        "colab": {
          "autoexec": {
            "startup": false,
            "wait_interval": 0
          }
        }
      },
      "cell_type": "code",
      "source": [
        "# Switch whatever algorithm you like\n",
        "chosen_algorithm = mnb\n",
        "user_features = [chosen_algorithm.predict(userMap[user]) for user in userMap]"
      ],
      "execution_count": 0,
      "outputs": []
    },
    {
      "metadata": {
        "id": "wAstpMdCQGH2",
        "colab_type": "code",
        "colab": {
          "autoexec": {
            "startup": false,
            "wait_interval": 0
          }
        }
      },
      "cell_type": "code",
      "source": [
        "user_features"
      ],
      "execution_count": 0,
      "outputs": []
    },
    {
      "metadata": {
        "id": "xu-OhNhVJxus",
        "colab_type": "code",
        "colab": {
          "autoexec": {
            "startup": false,
            "wait_interval": 0
          }
        }
      },
      "cell_type": "code",
      "source": [
        "user_predictions = [np.mean(feature) for feature in user_features]"
      ],
      "execution_count": 0,
      "outputs": []
    },
    {
      "metadata": {
        "id": "-RUXTp76MTK_",
        "colab_type": "code",
        "colab": {
          "autoexec": {
            "startup": false,
            "wait_interval": 0
          },
          "base_uri": "https://localhost:8080/",
          "height": 34
        },
        "outputId": "a6b57209-9f6e-4896-fd65-a06d165ad3ae",
        "executionInfo": {
          "status": "ok",
          "timestamp": 1530069257764,
          "user_tz": -480,
          "elapsed": 631,
          "user": {
            "displayName": "Sie Huai Gan",
            "photoUrl": "https://lh3.googleusercontent.com/a/default-user=s128",
            "userId": "104695445062122786782"
          }
        }
      },
      "cell_type": "code",
      "source": [
        "user_predictions = [1 if prediction >0.5 else 0 for prediction in user_predictions]\n",
        "user_predictions"
      ],
      "execution_count": 0,
      "outputs": [
        {
          "output_type": "execute_result",
          "data": {
            "text/plain": [
              "[0, 0, 0, 0, 0, 0, 0, 0, 0, 0]"
            ]
          },
          "metadata": {
            "tags": []
          },
          "execution_count": 101
        }
      ]
    },
    {
      "metadata": {
        "id": "_qVjGjHzMpCy",
        "colab_type": "code",
        "colab": {
          "autoexec": {
            "startup": false,
            "wait_interval": 0
          },
          "base_uri": "https://localhost:8080/",
          "height": 34
        },
        "outputId": "106376c5-3c07-4247-c995-2865f3cc3984",
        "executionInfo": {
          "status": "ok",
          "timestamp": 1530069258636,
          "user_tz": -480,
          "elapsed": 628,
          "user": {
            "displayName": "Sie Huai Gan",
            "photoUrl": "https://lh3.googleusercontent.com/a/default-user=s128",
            "userId": "104695445062122786782"
          }
        }
      },
      "cell_type": "code",
      "source": [
        "user_labels = [1 if label >2 else 0 for label in user_labels]\n",
        "user_labels"
      ],
      "execution_count": 0,
      "outputs": [
        {
          "output_type": "execute_result",
          "data": {
            "text/plain": [
              "[1, 0, 0, 1, 1, 1, 1, 1, 0, 0]"
            ]
          },
          "metadata": {
            "tags": []
          },
          "execution_count": 102
        }
      ]
    },
    {
      "metadata": {
        "id": "3ga2hMsMM7GJ",
        "colab_type": "code",
        "colab": {
          "autoexec": {
            "startup": false,
            "wait_interval": 0
          }
        }
      },
      "cell_type": "code",
      "source": [
        "def get_result(user_predictions,user_labels):\n",
        "  total_size = len(user_labels)\n",
        "  correct = 0\n",
        "  for i in range(total_size):\n",
        "    if user_predictions[i] == user_labels[i]:\n",
        "      correct += 1\n",
        "  print(\"The accuracy is {}\".format(correct * 1./total_size))"
      ],
      "execution_count": 0,
      "outputs": []
    },
    {
      "metadata": {
        "id": "gFYnmd2FOjxZ",
        "colab_type": "code",
        "colab": {
          "autoexec": {
            "startup": false,
            "wait_interval": 0
          },
          "base_uri": "https://localhost:8080/",
          "height": 34
        },
        "outputId": "9cd9bd77-cd43-4bd8-b160-50f6b2357b69",
        "executionInfo": {
          "status": "ok",
          "timestamp": 1530069262752,
          "user_tz": -480,
          "elapsed": 690,
          "user": {
            "displayName": "Sie Huai Gan",
            "photoUrl": "https://lh3.googleusercontent.com/a/default-user=s128",
            "userId": "104695445062122786782"
          }
        }
      },
      "cell_type": "code",
      "source": [
        "get_result(user_predictions,user_labels)"
      ],
      "execution_count": 0,
      "outputs": [
        {
          "output_type": "stream",
          "text": [
            "The accuracy is 0.4\n"
          ],
          "name": "stdout"
        }
      ]
    }
  ]
}